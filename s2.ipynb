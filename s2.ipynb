{
  "nbformat": 4,
  "nbformat_minor": 0,
  "metadata": {
    "accelerator": "GPU",
    "colab": {
      "name": "TaraBArghian_97243009_submit2.ipynb",
      "provenance": []
    },
    "kernelspec": {
      "display_name": "Python 3",
      "name": "python3"
    }
  },
  "cells": [
    {
      "cell_type": "code",
      "metadata": {
        "colab": {
          "base_uri": "https://localhost:8080/"
        },
        "id": "h1XKGfPFzygL",
        "outputId": "782597dc-f639-47fc-967d-68c2c9922662"
      },
      "source": [
        "pip install hazm"
      ],
      "execution_count": null,
      "outputs": [
        {
          "output_type": "stream",
          "text": [
            "Requirement already satisfied: hazm in /usr/local/lib/python3.6/dist-packages (0.7.0)\n",
            "Requirement already satisfied: libwapiti>=0.2.1; platform_system != \"Windows\" in /usr/local/lib/python3.6/dist-packages (from hazm) (0.2.1)\n",
            "Requirement already satisfied: nltk==3.3 in /usr/local/lib/python3.6/dist-packages (from hazm) (3.3)\n",
            "Requirement already satisfied: six in /usr/local/lib/python3.6/dist-packages (from libwapiti>=0.2.1; platform_system != \"Windows\"->hazm) (1.15.0)\n"
          ],
          "name": "stdout"
        }
      ]
    },
    {
      "cell_type": "code",
      "metadata": {
        "id": "VRUXavAwvyM2"
      },
      "source": [
        "import pandas as pd\r\n",
        "import numpy  as np\r\n",
        "import matplotlib.pyplot as plt\r\n",
        "from google.colab import files\r\n",
        "from google.colab import drive\r\n",
        "# import gensim\r\n",
        "# from gensim.models.word2vec import Word2Vec\r\n",
        "from hazm import word_tokenize, sent_tokenize, stopwords_list, Normalizer\r\n",
        "from sklearn.feature_extraction.text import CountVectorizer\r\n"
      ],
      "execution_count": null,
      "outputs": []
    },
    {
      "cell_type": "code",
      "metadata": {
        "colab": {
          "base_uri": "https://localhost:8080/"
        },
        "id": "1_22PVUuv9xb",
        "outputId": "da1693b3-7756-4127-8290-b1c885907c06"
      },
      "source": [
        "drive.mount('/content/gdrive')\r\n",
        "train_data = pd.read_csv('/content/gdrive/My Drive/train.csv')"
      ],
      "execution_count": null,
      "outputs": [
        {
          "output_type": "stream",
          "text": [
            "Drive already mounted at /content/gdrive; to attempt to forcibly remount, call drive.mount(\"/content/gdrive\", force_remount=True).\n"
          ],
          "name": "stdout"
        }
      ]
    },
    {
      "cell_type": "code",
      "metadata": {
        "colab": {
          "base_uri": "https://localhost:8080/",
          "height": 206
        },
        "id": "GY_ARPOdxCZ_",
        "outputId": "b6d40429-3762-45ab-e42e-2cba9ecc7fae"
      },
      "source": [
        "train_data.head()"
      ],
      "execution_count": null,
      "outputs": [
        {
          "output_type": "execute_result",
          "data": {
            "text/html": [
              "<div>\n",
              "<style scoped>\n",
              "    .dataframe tbody tr th:only-of-type {\n",
              "        vertical-align: middle;\n",
              "    }\n",
              "\n",
              "    .dataframe tbody tr th {\n",
              "        vertical-align: top;\n",
              "    }\n",
              "\n",
              "    .dataframe thead th {\n",
              "        text-align: right;\n",
              "    }\n",
              "</style>\n",
              "<table border=\"1\" class=\"dataframe\">\n",
              "  <thead>\n",
              "    <tr style=\"text-align: right;\">\n",
              "      <th></th>\n",
              "      <th>Unnamed: 0</th>\n",
              "      <th>Text</th>\n",
              "      <th>Category</th>\n",
              "    </tr>\n",
              "  </thead>\n",
              "  <tbody>\n",
              "    <tr>\n",
              "      <th>0</th>\n",
              "      <td>0</td>\n",
              "      <td>\\nخبرنامه دانشگاه علم و صنعت ايران \\nشماره ياز...</td>\n",
              "      <td>Science and Culture</td>\n",
              "    </tr>\n",
              "    <tr>\n",
              "      <th>1</th>\n",
              "      <td>1</td>\n",
              "      <td>\\nتا پايان سال 1378 دهها زمين فوتبال و \\nسالن ...</td>\n",
              "      <td>Sport</td>\n",
              "    </tr>\n",
              "    <tr>\n",
              "      <th>2</th>\n",
              "      <td>2</td>\n",
              "      <td>\\nانجمن توليدكنندگان تجهيزات صنعت نفت تشكيل شد...</td>\n",
              "      <td>Economy</td>\n",
              "    </tr>\n",
              "    <tr>\n",
              "      <th>3</th>\n",
              "      <td>3</td>\n",
              "      <td>\\nكرتين براي سومين بار نخست وزير كانادا \\nشد \\...</td>\n",
              "      <td>Miscellaneous.World News</td>\n",
              "    </tr>\n",
              "    <tr>\n",
              "      <th>4</th>\n",
              "      <td>4</td>\n",
              "      <td>\\nخداحافظ رفقا \\nنمايندگان اروپاي شرقي در جام ...</td>\n",
              "      <td>Sport</td>\n",
              "    </tr>\n",
              "  </tbody>\n",
              "</table>\n",
              "</div>"
            ],
            "text/plain": [
              "   Unnamed: 0  ...                  Category\n",
              "0           0  ...       Science and Culture\n",
              "1           1  ...                     Sport\n",
              "2           2  ...                   Economy\n",
              "3           3  ...  Miscellaneous.World News\n",
              "4           4  ...                     Sport\n",
              "\n",
              "[5 rows x 3 columns]"
            ]
          },
          "metadata": {
            "tags": []
          },
          "execution_count": 5
        }
      ]
    },
    {
      "cell_type": "code",
      "metadata": {
        "id": "KkFOKVtCa3eP"
      },
      "source": [
        "train_data.Text = train_data.Text.apply(str)\r\n",
        "train_data.Category = train_data.Category.apply(str)"
      ],
      "execution_count": null,
      "outputs": []
    },
    {
      "cell_type": "code",
      "metadata": {
        "id": "3YYNts2ycwZv"
      },
      "source": [
        "normalizer = Normalizer()"
      ],
      "execution_count": null,
      "outputs": []
    },
    {
      "cell_type": "code",
      "metadata": {
        "id": "lyc5d0-cbyze"
      },
      "source": [
        "norm_text = [normalizer.normalize(t) for t in train_data.Text]"
      ],
      "execution_count": null,
      "outputs": []
    },
    {
      "cell_type": "code",
      "metadata": {
        "colab": {
          "base_uri": "https://localhost:8080/"
        },
        "id": "btDtLZOrca95",
        "outputId": "a82050b3-5771-4b27-9588-73d69cddd1ef"
      },
      "source": [
        "#norm_text[:2]\r\n",
        "len(norm_text)"
      ],
      "execution_count": null,
      "outputs": [
        {
          "output_type": "execute_result",
          "data": {
            "text/plain": [
              "150096"
            ]
          },
          "metadata": {
            "tags": []
          },
          "execution_count": 7
        }
      ]
    },
    {
      "cell_type": "code",
      "metadata": {
        "id": "s9KZioTlhWTn"
      },
      "source": [
        "sents = [sent_tokenize(item) for item in norm_text]"
      ],
      "execution_count": null,
      "outputs": []
    },
    {
      "cell_type": "code",
      "metadata": {
        "id": "FosQXgrThiaq"
      },
      "source": [
        "stops = (stopwords_list())"
      ],
      "execution_count": null,
      "outputs": []
    },
    {
      "cell_type": "code",
      "metadata": {
        "id": "I0Nm1UMreh-q"
      },
      "source": [
        "words = [[word for s in sentence for word in word_tokenize(s) ] for sentence in sents]\r\n"
      ],
      "execution_count": null,
      "outputs": []
    },
    {
      "cell_type": "code",
      "metadata": {
        "id": "FLqkWOPH5sTT"
      },
      "source": [
        "import re"
      ],
      "execution_count": null,
      "outputs": []
    },
    {
      "cell_type": "code",
      "metadata": {
        "id": "_pK-FXgQ45b4"
      },
      "source": [
        "def filter1 (txt):\r\n",
        "  # signs = ['،','.',':',')','(','_','-','؛','','[a-zA-Z]+']\r\n",
        "  regex = re.compile(r'[a-zA-Z]+|[0-9]+|[۰۱۲۳۴۵۶۷۸۹]|[.:)(\\[\\]{}_-،؛]')\r\n",
        "  filtered = [i for i in txt if not regex.match(i)]\r\n",
        "  return filtered"
      ],
      "execution_count": null,
      "outputs": []
    },
    {
      "cell_type": "code",
      "metadata": {
        "id": "J2xUX2mo6wxZ"
      },
      "source": [
        "words = [filter1(w) for w in words]"
      ],
      "execution_count": null,
      "outputs": []
    },
    {
      "cell_type": "code",
      "metadata": {
        "id": "XDYuG_sIGBgK"
      },
      "source": [
        "words = [\" \".join(w1 for w1 in w if w1 not in stops) for w in words ]"
      ],
      "execution_count": null,
      "outputs": []
    },
    {
      "cell_type": "code",
      "metadata": {
        "id": "5-05vatX8z9i"
      },
      "source": [
        "#all_words = [w1 for w in words for w1 in w if w1 not in stops]"
      ],
      "execution_count": null,
      "outputs": []
    },
    {
      "cell_type": "code",
      "metadata": {
        "colab": {
          "base_uri": "https://localhost:8080/",
          "height": 206
        },
        "id": "qC_JrRj187y1",
        "outputId": "c5f38527-b15f-4eff-8c34-6517c8d125d7"
      },
      "source": [
        "train_data.head()\r\n"
      ],
      "execution_count": null,
      "outputs": [
        {
          "output_type": "execute_result",
          "data": {
            "text/html": [
              "<div>\n",
              "<style scoped>\n",
              "    .dataframe tbody tr th:only-of-type {\n",
              "        vertical-align: middle;\n",
              "    }\n",
              "\n",
              "    .dataframe tbody tr th {\n",
              "        vertical-align: top;\n",
              "    }\n",
              "\n",
              "    .dataframe thead th {\n",
              "        text-align: right;\n",
              "    }\n",
              "</style>\n",
              "<table border=\"1\" class=\"dataframe\">\n",
              "  <thead>\n",
              "    <tr style=\"text-align: right;\">\n",
              "      <th></th>\n",
              "      <th>Unnamed: 0</th>\n",
              "      <th>Text</th>\n",
              "      <th>Category</th>\n",
              "    </tr>\n",
              "  </thead>\n",
              "  <tbody>\n",
              "    <tr>\n",
              "      <th>0</th>\n",
              "      <td>0</td>\n",
              "      <td>خبرنامه دانشگاه علم صنعت ایران شماره یازدهم خب...</td>\n",
              "      <td>Science and Culture</td>\n",
              "    </tr>\n",
              "    <tr>\n",
              "      <th>1</th>\n",
              "      <td>1</td>\n",
              "      <td>پایان سال ۱۳۷۸ دهها زمین فوتبال سالن ورزش کارگ...</td>\n",
              "      <td>Sport</td>\n",
              "    </tr>\n",
              "    <tr>\n",
              "      <th>2</th>\n",
              "      <td>2</td>\n",
              "      <td>انجمن تولیدکنندگان تجهیزات صنعت نفت تشکیل مجمع...</td>\n",
              "      <td>Economy</td>\n",
              "    </tr>\n",
              "    <tr>\n",
              "      <th>3</th>\n",
              "      <td>3</td>\n",
              "      <td>کرتین سومین وزیر کانادا ژان کرتین وزیر کانادا ...</td>\n",
              "      <td>Miscellaneous.World News</td>\n",
              "    </tr>\n",
              "    <tr>\n",
              "      <th>4</th>\n",
              "      <td>4</td>\n",
              "      <td>خداحافظ رفقا نمایندگان اروپای شرقی جام ۲۰۰۲ با...</td>\n",
              "      <td>Sport</td>\n",
              "    </tr>\n",
              "  </tbody>\n",
              "</table>\n",
              "</div>"
            ],
            "text/plain": [
              "   Unnamed: 0  ...                  Category\n",
              "0           0  ...       Science and Culture\n",
              "1           1  ...                     Sport\n",
              "2           2  ...                   Economy\n",
              "3           3  ...  Miscellaneous.World News\n",
              "4           4  ...                     Sport\n",
              "\n",
              "[5 rows x 3 columns]"
            ]
          },
          "metadata": {
            "tags": []
          },
          "execution_count": 22
        }
      ]
    },
    {
      "cell_type": "code",
      "metadata": {
        "id": "3T4rgpl0Oeup"
      },
      "source": [
        "train_data['Text'] = words"
      ],
      "execution_count": null,
      "outputs": []
    },
    {
      "cell_type": "markdown",
      "metadata": {
        "id": "c-OYt5NdJbXT"
      },
      "source": [
        "بعضی از این کاب خونه هایی که زدم اینجا لازم نیست، من دیگه همرو از بالای اون مقاله برداشتم جدا نکردم چیا لازمه .\r\n"
      ]
    },
    {
      "cell_type": "code",
      "metadata": {
        "id": "sEwWySCbPYW1"
      },
      "source": [
        "#some of these are not used\r\n",
        "\r\n",
        "from nltk.tokenize import word_tokenize\r\n",
        "from nltk import pos_tag\r\n",
        "from nltk.corpus import stopwords\r\n",
        "from nltk.stem import WordNetLemmatizer\r\n",
        "from sklearn.preprocessing import LabelEncoder\r\n",
        "from collections import defaultdict\r\n",
        "from nltk.corpus import wordnet as wn\r\n",
        "from sklearn.feature_extraction.text import TfidfVectorizer\r\n",
        "from sklearn import model_selection, naive_bayes, svm\r\n",
        "from sklearn.metrics import accuracy_score"
      ],
      "execution_count": null,
      "outputs": []
    },
    {
      "cell_type": "code",
      "metadata": {
        "id": "ppieE4F9Nyw_"
      },
      "source": [
        "Train_X, Test_X, Train_Y, Test_Y = model_selection.train_test_split(train_data['Text'],train_data['Category'],test_size=0.3)"
      ],
      "execution_count": null,
      "outputs": []
    },
    {
      "cell_type": "code",
      "metadata": {
        "id": "crJ7QFP593GJ"
      },
      "source": [
        "Encoder = LabelEncoder()\r\n",
        "Train_Y = Encoder.fit_transform(Train_Y)\r\n",
        "Test_Y = Encoder.fit_transform(Test_Y)"
      ],
      "execution_count": null,
      "outputs": []
    },
    {
      "cell_type": "code",
      "metadata": {
        "id": "UGnwoHjYIxVa"
      },
      "source": [
        "#Tfidf_vect = TfidfVectorizer(max_features=5000)\r\n",
        "Tfidf_vect = TfidfVectorizer(max_features=8000, ngram_range=(1,2), max_df=0.5, min_df=15, use_idf=True)\r\n",
        "Tfidf_vect.fit(train_data['Text'])\r\n",
        "Train_X_Tfidf = Tfidf_vect.transform(Train_X)\r\n",
        "Test_X_Tfidf = Tfidf_vect.transform(Test_X)"
      ],
      "execution_count": null,
      "outputs": []
    },
    {
      "cell_type": "code",
      "metadata": {
        "id": "0PtjHKVjMNmm"
      },
      "source": [
        "#Tfidf_vect.vocabulary_"
      ],
      "execution_count": null,
      "outputs": []
    },
    {
      "cell_type": "code",
      "metadata": {
        "colab": {
          "base_uri": "https://localhost:8080/"
        },
        "id": "6BtecxauQBWO",
        "outputId": "9178b8f7-981d-4500-cf77-3f89a1eec278"
      },
      "source": [
        "# Classifier using SVM\r\n",
        "SVM = svm.SVC(C=1.0, kernel='linear', degree=3, gamma='auto')\r\n",
        "SVM.fit(Train_X_Tfidf,Train_Y)\r\n",
        "\r\n",
        "predictions_SVM = SVM.predict(Test_X_Tfidf)\r\n",
        "print(\"SVM Accuracy Score -> \",accuracy_score(predictions_SVM, Test_Y)*100)"
      ],
      "execution_count": null,
      "outputs": [
        {
          "output_type": "stream",
          "text": [
            "SVM Accuracy Score ->  78.83808212485287\n"
          ],
          "name": "stdout"
        }
      ]
    },
    {
      "cell_type": "code",
      "metadata": {
        "id": "oRgoslgVVExE"
      },
      "source": [
        "test_data = pd.read_csv('/content/gdrive/My Drive/test.csv')"
      ],
      "execution_count": null,
      "outputs": []
    },
    {
      "cell_type": "code",
      "metadata": {
        "colab": {
          "base_uri": "https://localhost:8080/",
          "height": 206
        },
        "id": "0kS_Qv3HziHA",
        "outputId": "e4998679-dc7c-4d05-ac1d-521473573d3e"
      },
      "source": [
        "test_data.head()"
      ],
      "execution_count": null,
      "outputs": [
        {
          "output_type": "execute_result",
          "data": {
            "text/html": [
              "<div>\n",
              "<style scoped>\n",
              "    .dataframe tbody tr th:only-of-type {\n",
              "        vertical-align: middle;\n",
              "    }\n",
              "\n",
              "    .dataframe tbody tr th {\n",
              "        vertical-align: top;\n",
              "    }\n",
              "\n",
              "    .dataframe thead th {\n",
              "        text-align: right;\n",
              "    }\n",
              "</style>\n",
              "<table border=\"1\" class=\"dataframe\">\n",
              "  <thead>\n",
              "    <tr style=\"text-align: right;\">\n",
              "      <th></th>\n",
              "      <th>Id</th>\n",
              "      <th>Text</th>\n",
              "    </tr>\n",
              "  </thead>\n",
              "  <tbody>\n",
              "    <tr>\n",
              "      <th>0</th>\n",
              "      <td>0</td>\n",
              "      <td>\\nهفت اقليم \\nآلودگي هوا پكن را تهديد مي كند \\...</td>\n",
              "    </tr>\n",
              "    <tr>\n",
              "      <th>1</th>\n",
              "      <td>1</td>\n",
              "      <td>\\nگل و گياه زعفران زينتي \\nنام علمي: Crocus ba...</td>\n",
              "    </tr>\n",
              "    <tr>\n",
              "      <th>2</th>\n",
              "      <td>2</td>\n",
              "      <td>\\nيادداشت \\nقانون بودجه و صنايع كوچك \\nدر شمار...</td>\n",
              "    </tr>\n",
              "    <tr>\n",
              "      <th>3</th>\n",
              "      <td>3</td>\n",
              "      <td>\\nدر سالروز ميلاد حضرت مهدي \\nهمايش ادبي دانش ...</td>\n",
              "    </tr>\n",
              "    <tr>\n",
              "      <th>4</th>\n",
              "      <td>4</td>\n",
              "      <td>\\nاز IRA تا فارك \\n بوگوتا، پايتخت پرهرج ومرج ...</td>\n",
              "    </tr>\n",
              "  </tbody>\n",
              "</table>\n",
              "</div>"
            ],
            "text/plain": [
              "   Id                                               Text\n",
              "0   0  \\nهفت اقليم \\nآلودگي هوا پكن را تهديد مي كند \\...\n",
              "1   1  \\nگل و گياه زعفران زينتي \\nنام علمي: Crocus ba...\n",
              "2   2  \\nيادداشت \\nقانون بودجه و صنايع كوچك \\nدر شمار...\n",
              "3   3  \\nدر سالروز ميلاد حضرت مهدي \\nهمايش ادبي دانش ...\n",
              "4   4  \\nاز IRA تا فارك \\n بوگوتا، پايتخت پرهرج ومرج ..."
            ]
          },
          "metadata": {
            "tags": []
          },
          "execution_count": 38
        }
      ]
    },
    {
      "cell_type": "code",
      "metadata": {
        "id": "YIXXDX-azsJg"
      },
      "source": [
        "norm_test_text = [normalizer.normalize(t) for t in test_data.Text]"
      ],
      "execution_count": null,
      "outputs": []
    },
    {
      "cell_type": "code",
      "metadata": {
        "id": "FifROC1Bz2Cm"
      },
      "source": [
        "sents = [sent_tokenize(item) for item in norm_test_text]"
      ],
      "execution_count": null,
      "outputs": []
    },
    {
      "cell_type": "code",
      "metadata": {
        "colab": {
          "base_uri": "https://localhost:8080/"
        },
        "id": "MQngyI4p0Trx",
        "outputId": "474ce1ee-6823-4065-8b6e-8568877aa06d"
      },
      "source": [
        "import nltk\r\n",
        "nltk.download('punkt')"
      ],
      "execution_count": null,
      "outputs": [
        {
          "output_type": "stream",
          "text": [
            "[nltk_data] Downloading package punkt to /root/nltk_data...\n",
            "[nltk_data]   Unzipping tokenizers/punkt.zip.\n"
          ],
          "name": "stdout"
        },
        {
          "output_type": "execute_result",
          "data": {
            "text/plain": [
              "True"
            ]
          },
          "metadata": {
            "tags": []
          },
          "execution_count": 42
        }
      ]
    },
    {
      "cell_type": "code",
      "metadata": {
        "id": "RHF5yejZz-VI"
      },
      "source": [
        "words = [[word for s in sentence for word in word_tokenize(s) ] for sentence in sents]\r\n"
      ],
      "execution_count": null,
      "outputs": []
    },
    {
      "cell_type": "code",
      "metadata": {
        "id": "2H3HdDA60Caa"
      },
      "source": [
        "words = [filter1(w) for w in words]"
      ],
      "execution_count": null,
      "outputs": []
    },
    {
      "cell_type": "code",
      "metadata": {
        "id": "pnPEbDX01tl7"
      },
      "source": [
        "words = [\" \".join(w1 for w1 in w if w1 not in stops) for w in words ]"
      ],
      "execution_count": null,
      "outputs": []
    },
    {
      "cell_type": "code",
      "metadata": {
        "colab": {
          "base_uri": "https://localhost:8080/",
          "height": 127
        },
        "id": "_54WSzqG1umX",
        "outputId": "b6da876a-f9f9-4837-8971-dd7ab1e7e66a"
      },
      "source": [
        "#words[0]"
      ],
      "execution_count": null,
      "outputs": [
        {
          "output_type": "execute_result",
          "data": {
            "application/vnd.google.colaboratory.intrinsic+json": {
              "type": "string"
            },
            "text/plain": [
              "'هفت اقلیم آلودگی هوا پکن تهدید باافزایش آلودگی هوا پکن مقام\\u200cهای محیط زیست دراین شهر تاثیرات آلودگی هوا برانسان هشداردادند گزارش واحدمرکزی خبربنقل شبکه تلویزیونی چین آلودگی هوا درپکن درپی افزایش خودروها وتعداد آسمان خراش\\u200cها درپایتخت چین بوقوع پیوسته بنابه مقام\\u200cهای محیط زیست درحال حاضر میزان دی اکسید کربن دراین شهر سطح معمولی فراتررفته بطوری سطح شهر تیره وتار تنفس مردم خفه درحال حاضر نرخ افزایش سالانه خودرو درپکن ۱۵ درصد ذکرشده تاسال درشهر ۱۹۹۸ پکن میلیون وچهارصد خودرو حرکت واین درحالی هرروزهزار ۶۰ خودرو شهرهای پکن تعدادی بعلت فرسوده هوای شهرپکن آلوده بنابه کارشناسان درصد ۷۰ آلودگی هوای شهر پکن ازخودروها معضل شهر پکن سوزاندن زغال سنگ است، زیرابسیاری شهروندان وکارخانجات واقع درحومه پکن زغال سنگ تولید گرمااستفاده تلاش جانورشناسان وکارشناسان حیات وحش درکنیا گزارش واحدمرکزی خبر نقل شبکه تلویزیونی عمان چهل نفر ازکارشناسان المللی حیات وحش باهمکاری سازمان حفاظت محیط زیست کنیابااستفاده ده فروند هواپیمای موتوره وچندین گروه سیار فعالیت گسترده\\u200cای رابرای شناسایی وشمارش فیلهای کشور باهدف جلوگیری انقراض نسل فیل درافریقا آغاز گزارش گروه ثبت ومحل زیست فیلهای موجوددرمنطقه\\u200cای وسعت صدها کیلومترمربع می\\u200cپردازد وطی فعالیت ۵ روزه دکتر داگلاس همیلتون کارشناس برجسته جانور شناس ارزیابی ذخایر جانور خواهد پرداخت گزارش حاکیست سال ۱۹۸۸ بعلت کشتارشدید فیلها بخاطر تجارت عاج هزار راس فیل درپارک ملی کنیا باقی مانده اینک همت برنامه حفاظت ذخایر فیل\\u200cها رقم هفت هزار راس افزایش گزارش می\\u200cافزاید درراستای شمارش فیلهای کنیا فعالیتهای نیزنظیر ارزیابی ذخایر انواع بزکوهی وبوفالو درپارک ملی کنیا انجام گله\\u200cهای مختلف جانوران همراه مناطق زیست شناسایی خواهند حیات وحش کوه گیلویه پناه دهید یاسوج - خبرنگار همشهری سازمان حفاظت محیط زیست استان کهگیلویه بویراحمد صدور اطلاعیه اهالی استان همکاری طلبیده اطلاعیه نزول رحمت الهی بخصوص ریزش برف ارتفاعات پناهنده وحوش پرندگان جوار روستاها، شهرها، جداول رودخانه\\u200cها گردیده است، عده\\u200cای سودجو فرصت طلب شکار گونه\\u200cهای مختلف جانوری کمین نشسته\\u200cاند همکاری ساکنین استان کهگیلویه بویراحمد زمینه رهگشاست اطلاعیه درخواست متخلفین سازمان محیط زیست استان شهرستانهای کهگیلویه گچساران سرمحیطبانی باشت پایگاههای تابعه معرفی'"
            ]
          },
          "metadata": {
            "tags": []
          },
          "execution_count": 46
        }
      ]
    },
    {
      "cell_type": "code",
      "metadata": {
        "colab": {
          "base_uri": "https://localhost:8080/",
          "height": 206
        },
        "id": "ni5TWyN31xBD",
        "outputId": "4ae29711-1a01-40f8-dfb3-9ba64e7acd1f"
      },
      "source": [
        "test_data['Text'] = words\r\n",
        "test_data.head()"
      ],
      "execution_count": null,
      "outputs": [
        {
          "output_type": "execute_result",
          "data": {
            "text/html": [
              "<div>\n",
              "<style scoped>\n",
              "    .dataframe tbody tr th:only-of-type {\n",
              "        vertical-align: middle;\n",
              "    }\n",
              "\n",
              "    .dataframe tbody tr th {\n",
              "        vertical-align: top;\n",
              "    }\n",
              "\n",
              "    .dataframe thead th {\n",
              "        text-align: right;\n",
              "    }\n",
              "</style>\n",
              "<table border=\"1\" class=\"dataframe\">\n",
              "  <thead>\n",
              "    <tr style=\"text-align: right;\">\n",
              "      <th></th>\n",
              "      <th>Id</th>\n",
              "      <th>Text</th>\n",
              "    </tr>\n",
              "  </thead>\n",
              "  <tbody>\n",
              "    <tr>\n",
              "      <th>0</th>\n",
              "      <td>0</td>\n",
              "      <td>هفت اقلیم آلودگی هوا پکن تهدید باافزایش آلودگی...</td>\n",
              "    </tr>\n",
              "    <tr>\n",
              "      <th>1</th>\n",
              "      <td>1</td>\n",
              "      <td>گل گیاه زعفران زینتی نام علمی خانواده پیاز توپ...</td>\n",
              "    </tr>\n",
              "    <tr>\n",
              "      <th>2</th>\n",
              "      <td>2</td>\n",
              "      <td>یادداشت قانون بودجه صنایع شماره گذشته تفاوت‌ها...</td>\n",
              "    </tr>\n",
              "    <tr>\n",
              "      <th>3</th>\n",
              "      <td>3</td>\n",
              "      <td>سالروز میلاد حضرت مهدی همایش ادبی دانش آموزان ...</td>\n",
              "    </tr>\n",
              "    <tr>\n",
              "      <th>4</th>\n",
              "      <td>4</td>\n",
              "      <td>فارک بوگوتا، پایتخت پرهرج ومرج کلمبیا آمریکای ...</td>\n",
              "    </tr>\n",
              "  </tbody>\n",
              "</table>\n",
              "</div>"
            ],
            "text/plain": [
              "   Id                                               Text\n",
              "0   0  هفت اقلیم آلودگی هوا پکن تهدید باافزایش آلودگی...\n",
              "1   1  گل گیاه زعفران زینتی نام علمی خانواده پیاز توپ...\n",
              "2   2  یادداشت قانون بودجه صنایع شماره گذشته تفاوت‌ها...\n",
              "3   3  سالروز میلاد حضرت مهدی همایش ادبی دانش آموزان ...\n",
              "4   4  فارک بوگوتا، پایتخت پرهرج ومرج کلمبیا آمریکای ..."
            ]
          },
          "metadata": {
            "tags": []
          },
          "execution_count": 52
        }
      ]
    },
    {
      "cell_type": "code",
      "metadata": {
        "id": "se-KCqBU2Wgs"
      },
      "source": [
        "Test_X_Tfidf = Tfidf_vect.transform(test_data['Text'])\r\n",
        "predictions_test_SVM = SVM.predict(Test_X_Tfidf)"
      ],
      "execution_count": null,
      "outputs": []
    },
    {
      "cell_type": "code",
      "metadata": {
        "colab": {
          "base_uri": "https://localhost:8080/"
        },
        "id": "e1dRSzMr2wZb",
        "outputId": "89d52202-a3f3-4261-f2e5-766a2724056b"
      },
      "source": [
        "len(predictions_test_SVM)"
      ],
      "execution_count": null,
      "outputs": [
        {
          "output_type": "execute_result",
          "data": {
            "text/plain": [
              "16678"
            ]
          },
          "metadata": {
            "tags": []
          },
          "execution_count": 78
        }
      ]
    },
    {
      "cell_type": "code",
      "metadata": {
        "id": "K1Ca9AVd9pQB"
      },
      "source": [
        "test_data['Category'] = Encoder.inverse_transform(predictions_test_SVM)"
      ],
      "execution_count": null,
      "outputs": []
    },
    {
      "cell_type": "code",
      "metadata": {
        "colab": {
          "base_uri": "https://localhost:8080/",
          "height": 206
        },
        "id": "NNuFNVGqF5l2",
        "outputId": "cef92c8b-44c1-4f01-c539-8be690d1db10"
      },
      "source": [
        "test_data.head()"
      ],
      "execution_count": null,
      "outputs": [
        {
          "output_type": "execute_result",
          "data": {
            "text/html": [
              "<div>\n",
              "<style scoped>\n",
              "    .dataframe tbody tr th:only-of-type {\n",
              "        vertical-align: middle;\n",
              "    }\n",
              "\n",
              "    .dataframe tbody tr th {\n",
              "        vertical-align: top;\n",
              "    }\n",
              "\n",
              "    .dataframe thead th {\n",
              "        text-align: right;\n",
              "    }\n",
              "</style>\n",
              "<table border=\"1\" class=\"dataframe\">\n",
              "  <thead>\n",
              "    <tr style=\"text-align: right;\">\n",
              "      <th></th>\n",
              "      <th>Id</th>\n",
              "      <th>Text</th>\n",
              "      <th>Category</th>\n",
              "    </tr>\n",
              "  </thead>\n",
              "  <tbody>\n",
              "    <tr>\n",
              "      <th>0</th>\n",
              "      <td>0</td>\n",
              "      <td>هفت اقلیم آلودگی هوا پکن تهدید باافزایش آلودگی...</td>\n",
              "      <td>Miscellaneous.Urban</td>\n",
              "    </tr>\n",
              "    <tr>\n",
              "      <th>1</th>\n",
              "      <td>1</td>\n",
              "      <td>گل گیاه زعفران زینتی نام علمی خانواده پیاز توپ...</td>\n",
              "      <td>Miscellaneous</td>\n",
              "    </tr>\n",
              "    <tr>\n",
              "      <th>2</th>\n",
              "      <td>2</td>\n",
              "      <td>یادداشت قانون بودجه صنایع شماره گذشته تفاوت‌ها...</td>\n",
              "      <td>Economy</td>\n",
              "    </tr>\n",
              "    <tr>\n",
              "      <th>3</th>\n",
              "      <td>3</td>\n",
              "      <td>سالروز میلاد حضرت مهدی همایش ادبی دانش آموزان ...</td>\n",
              "      <td>Science and Culture</td>\n",
              "    </tr>\n",
              "    <tr>\n",
              "      <th>4</th>\n",
              "      <td>4</td>\n",
              "      <td>فارک بوگوتا، پایتخت پرهرج ومرج کلمبیا آمریکای ...</td>\n",
              "      <td>Politics</td>\n",
              "    </tr>\n",
              "  </tbody>\n",
              "</table>\n",
              "</div>"
            ],
            "text/plain": [
              "   Id                                               Text             Category\n",
              "0   0  هفت اقلیم آلودگی هوا پکن تهدید باافزایش آلودگی...  Miscellaneous.Urban\n",
              "1   1  گل گیاه زعفران زینتی نام علمی خانواده پیاز توپ...        Miscellaneous\n",
              "2   2  یادداشت قانون بودجه صنایع شماره گذشته تفاوت‌ها...              Economy\n",
              "3   3  سالروز میلاد حضرت مهدی همایش ادبی دانش آموزان ...  Science and Culture\n",
              "4   4  فارک بوگوتا، پایتخت پرهرج ومرج کلمبیا آمریکای ...             Politics"
            ]
          },
          "metadata": {
            "tags": []
          },
          "execution_count": 64
        }
      ]
    },
    {
      "cell_type": "code",
      "metadata": {
        "id": "6hBkSYABIMCI"
      },
      "source": [
        "from pandas import DataFrame\r\n",
        "df = DataFrame (test_data['Category'],columns=['Id','Category'])\r\n",
        "df[\"Id\"] = df.index"
      ],
      "execution_count": null,
      "outputs": []
    },
    {
      "cell_type": "code",
      "metadata": {
        "colab": {
          "base_uri": "https://localhost:8080/",
          "height": 424
        },
        "id": "vuWzQRBkI61f",
        "outputId": "b16c0fbc-177c-40e3-8469-3971bcf6f061"
      },
      "source": [
        "df"
      ],
      "execution_count": null,
      "outputs": [
        {
          "output_type": "execute_result",
          "data": {
            "text/html": [
              "<div>\n",
              "<style scoped>\n",
              "    .dataframe tbody tr th:only-of-type {\n",
              "        vertical-align: middle;\n",
              "    }\n",
              "\n",
              "    .dataframe tbody tr th {\n",
              "        vertical-align: top;\n",
              "    }\n",
              "\n",
              "    .dataframe thead th {\n",
              "        text-align: right;\n",
              "    }\n",
              "</style>\n",
              "<table border=\"1\" class=\"dataframe\">\n",
              "  <thead>\n",
              "    <tr style=\"text-align: right;\">\n",
              "      <th></th>\n",
              "      <th>Id</th>\n",
              "      <th>Category</th>\n",
              "    </tr>\n",
              "  </thead>\n",
              "  <tbody>\n",
              "    <tr>\n",
              "      <th>0</th>\n",
              "      <td>0</td>\n",
              "      <td>Miscellaneous.Urban</td>\n",
              "    </tr>\n",
              "    <tr>\n",
              "      <th>1</th>\n",
              "      <td>1</td>\n",
              "      <td>Miscellaneous</td>\n",
              "    </tr>\n",
              "    <tr>\n",
              "      <th>2</th>\n",
              "      <td>2</td>\n",
              "      <td>Economy</td>\n",
              "    </tr>\n",
              "    <tr>\n",
              "      <th>3</th>\n",
              "      <td>3</td>\n",
              "      <td>Science and Culture</td>\n",
              "    </tr>\n",
              "    <tr>\n",
              "      <th>4</th>\n",
              "      <td>4</td>\n",
              "      <td>Politics</td>\n",
              "    </tr>\n",
              "    <tr>\n",
              "      <th>...</th>\n",
              "      <td>...</td>\n",
              "      <td>...</td>\n",
              "    </tr>\n",
              "    <tr>\n",
              "      <th>16673</th>\n",
              "      <td>16673</td>\n",
              "      <td>Science and Culture</td>\n",
              "    </tr>\n",
              "    <tr>\n",
              "      <th>16674</th>\n",
              "      <td>16674</td>\n",
              "      <td>Sport</td>\n",
              "    </tr>\n",
              "    <tr>\n",
              "      <th>16675</th>\n",
              "      <td>16675</td>\n",
              "      <td>Miscellaneous.World News</td>\n",
              "    </tr>\n",
              "    <tr>\n",
              "      <th>16676</th>\n",
              "      <td>16676</td>\n",
              "      <td>Miscellaneous</td>\n",
              "    </tr>\n",
              "    <tr>\n",
              "      <th>16677</th>\n",
              "      <td>16677</td>\n",
              "      <td>Economy</td>\n",
              "    </tr>\n",
              "  </tbody>\n",
              "</table>\n",
              "<p>16678 rows × 2 columns</p>\n",
              "</div>"
            ],
            "text/plain": [
              "          Id                  Category\n",
              "0          0       Miscellaneous.Urban\n",
              "1          1             Miscellaneous\n",
              "2          2                   Economy\n",
              "3          3       Science and Culture\n",
              "4          4                  Politics\n",
              "...      ...                       ...\n",
              "16673  16673       Science and Culture\n",
              "16674  16674                     Sport\n",
              "16675  16675  Miscellaneous.World News\n",
              "16676  16676             Miscellaneous\n",
              "16677  16677                   Economy\n",
              "\n",
              "[16678 rows x 2 columns]"
            ]
          },
          "metadata": {
            "tags": []
          },
          "execution_count": 89
        }
      ]
    },
    {
      "cell_type": "markdown",
      "metadata": {
        "id": "vD60OIU0KGI-"
      },
      "source": [
        "فقط این که این یه ستون اضافه id میده، که من دستی حذفش کردم قبل از اپلود"
      ]
    },
    {
      "cell_type": "code",
      "metadata": {
        "id": "Gc0Dr_C2J0Dz"
      },
      "source": [
        "df.to_csv('final.csv')\r\n",
        "!cp final.csv \"/content/gdrive/My Drive/\""
      ],
      "execution_count": null,
      "outputs": []
    },
    {
      "cell_type": "code",
      "metadata": {
        "id": "sH2fjcc9J9KQ"
      },
      "source": [
        ""
      ],
      "execution_count": null,
      "outputs": []
    }
  ]
}